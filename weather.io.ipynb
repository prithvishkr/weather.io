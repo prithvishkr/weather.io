{
 "cells": [
  {
   "cell_type": "code",
   "execution_count": 33,
   "metadata": {},
   "outputs": [],
   "source": [
    "import pyowm\n",
    "import requests\n",
    "import json\n",
    "from tkinter import *\n",
    "import tkinter.messagebox\n"
   ]
  },
  {
   "cell_type": "code",
   "execution_count": 34,
   "metadata": {},
   "outputs": [],
   "source": [
    "def findloc():\n",
    "    send_url = \"http://api.ipstack.com/check?access_key=93384f87cd862eb953d503f20d348b6b\"\n",
    "    geo_req = requests.get(send_url)\n",
    "    geo_json = json.loads(geo_req.text)\n",
    "    #Place_ID1 = geo_json['zip']\n",
    "    #Place_ID = int(Place_ID1)\n",
    "    city = geo_json['city']\n",
    "    region = geo_json['region_name']\n",
    "    latitude = geo_json['latitude']\n",
    "    longitude = geo_json['longitude']"
   ]
  },
  {
   "cell_type": "code",
   "execution_count": 56,
   "metadata": {},
   "outputs": [],
   "source": [
    "def getloc():\n",
    "    owm = pyowm.OWM('f883d296b615dc7e68ba90881eb138db')\n",
    "    P_weather = owm.weather_at_coords(latitude,longitude) #we store all the info in P_weather\n",
    "    time1 = P_weather.get_reception_time(timeformat='iso')\n",
    "    weather = P_weather.get_weather()\n",
    "    time = weather.get_reference_time(timeformat='iso')\n",
    "    temperature = weather.get_temperature(unit='celsius')\n",
    "    wind_speed = weather.get_wind()\n",
    "    sun_rise = weather.get_sunrise_time(timeformat='iso')\n",
    "    sun_set = weather.get_sunset_time(timeformat='iso')\n",
    "    print(city)\n",
    "    print(region)\n",
    "    print(time)\n",
    "    print(time1)\n",
    "    print(temperature)\n",
    "    print(wind_speed)\n",
    "    print(sun_rise)\n",
    "    print(sun_set)\n",
    "    #newWindow = tk.Toplevel(root)\n",
    "    newWindow = tk.Toplevel(root)\n",
    "    labelExample = tk.Label(newWindow, text = str(city))\n",
    "    labelExample1 = tk.Label(newWindow, text = str(region))\n",
    "    labelExample2 = tk.Label(newWindow, text = str(time))\n",
    "    labelExample3 = tk.Label(newWindow, text = str(time1))\n",
    "    labelExample4 = tk.Label(newWindow, text = str(temperature))\n",
    "    labelExample5 = tk.Label(newWindow, text = str(wind_speed))\n",
    "    labelExample6 = tk.Label(newWindow, text = str(sun_rise))\n",
    "    labelExample7 = tk.Label(newWindow, text = str(sun_set))\n",
    "    labelExample.pack()\n",
    "    labelExample1.pack()\n",
    "    labelExample2.pack()\n",
    "    labelExample3.pack()\n",
    "    labelExample4.pack()\n",
    "    labelExample5.pack()\n",
    "    labelExample6.pack()\n",
    "    labelExample7.pack()"
   ]
  },
  {
   "cell_type": "code",
   "execution_count": 73,
   "metadata": {},
   "outputs": [],
   "source": [
    "from tkinter import *\n",
    "from PIL import ImageTk,Image"
   ]
  },
  {
   "cell_type": "code",
   "execution_count": 89,
   "metadata": {},
   "outputs": [
    {
     "name": "stdout",
     "output_type": "stream",
     "text": [
      "Padaliya Bajrang\n",
      "Madhya Pradesh\n",
      "2020-05-02 16:48:16+00\n",
      "2020-05-02 16:48:16+00\n",
      "{'temp': 31.11, 'temp_max': 31.11, 'temp_min': 31.11, 'temp_kf': None}\n",
      "{'speed': 4.28, 'deg': 294}\n",
      "2020-05-02 00:22:44+00\n",
      "2020-05-02 13:23:46+00\n"
     ]
    }
   ],
   "source": [
    "root=Tk()\n",
    "root.title('Weather.io')\n",
    "back = Frame(master=root, width=500, height=500, bg='black')\n",
    "back.pack()\n",
    "labelExample = tk.Label(back, text =\"First Click on Get Location Then Click on Get details\" )\n",
    "labelExample.place(relx=0.5, rely=0.2, anchor=CENTER)\n",
    "B = Button(root, text =\"find your location\", command = findloc)\n",
    "c = Button(root, text =\"Get Details\", command = getloc)\n",
    "B.place(relx=0.5, rely=0.5, anchor=CENTER)\n",
    "c.place(relx=0.45, rely=0.6)\n",
    "root.mainloop()"
   ]
  },
  {
   "cell_type": "code",
   "execution_count": null,
   "metadata": {},
   "outputs": [],
   "source": []
  }
 ],
 "metadata": {
  "kernelspec": {
   "display_name": "Python 3",
   "language": "python",
   "name": "python3"
  },
  "language_info": {
   "codemirror_mode": {
    "name": "ipython",
    "version": 3
   },
   "file_extension": ".py",
   "mimetype": "text/x-python",
   "name": "python",
   "nbconvert_exporter": "python",
   "pygments_lexer": "ipython3",
   "version": "3.7.3"
  }
 },
 "nbformat": 4,
 "nbformat_minor": 2
}
